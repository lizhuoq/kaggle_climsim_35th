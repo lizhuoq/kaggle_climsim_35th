{
 "cells": [
  {
   "cell_type": "code",
   "execution_count": null,
   "metadata": {},
   "outputs": [],
   "source": [
    "from models.UNet_2D import Model\n",
    "\n",
    "\n",
    "class Args():\n",
    "    def __init__(self) -> None:\n",
    "        self.in_channel = 9 + 16\n",
    "        self.out_channel = 6 + 8\n",
    "\n",
    "\n",
    "args = Args()\n",
    "model = Model(args)"
   ]
  },
  {
   "cell_type": "code",
   "execution_count": 2,
   "metadata": {},
   "outputs": [
    {
     "data": {
      "text/plain": [
       "(665,)"
      ]
     },
     "execution_count": 2,
     "metadata": {},
     "output_type": "execute_result"
    }
   ],
   "source": [
    "from joblib import load\n",
    "\n",
    "feature_scaler = load(\"dataset/ClimSim/feature_engineering_version1_feature_scaler.joblib\")\n",
    "feature_scaler.feature_names_in_.shape"
   ]
  },
  {
   "cell_type": "code",
   "execution_count": 3,
   "metadata": {},
   "outputs": [
    {
     "data": {
      "text/plain": [
       "array(['top_bottom_state_t_grad_0', 'top_bottom_state_t_grad_1',\n",
       "       'top_bottom_state_t_grad_2', 'top_bottom_state_t_grad_3',\n",
       "       'top_bottom_state_t_grad_4', 'top_bottom_state_t_grad_5',\n",
       "       'top_bottom_state_t_grad_6', 'top_bottom_state_t_grad_7',\n",
       "       'top_bottom_state_t_grad_8', 'top_bottom_state_t_grad_9',\n",
       "       'top_bottom_state_t_grad_10', 'top_bottom_state_t_grad_11',\n",
       "       'top_bottom_state_t_grad_12', 'top_bottom_state_t_grad_13',\n",
       "       'top_bottom_state_t_grad_14', 'top_bottom_state_t_grad_15',\n",
       "       'top_bottom_state_t_grad_16', 'top_bottom_state_t_grad_17',\n",
       "       'top_bottom_state_t_grad_18', 'top_bottom_state_t_grad_19',\n",
       "       'top_bottom_state_t_grad_20', 'top_bottom_state_t_grad_21',\n",
       "       'top_bottom_state_t_grad_22', 'top_bottom_state_t_grad_23',\n",
       "       'top_bottom_state_t_grad_24', 'top_bottom_state_t_grad_25',\n",
       "       'top_bottom_state_t_grad_26', 'top_bottom_state_t_grad_27',\n",
       "       'top_bottom_state_t_grad_28', 'top_bottom_state_t_grad_29',\n",
       "       'top_bottom_state_t_grad_30', 'top_bottom_state_t_grad_31',\n",
       "       'top_bottom_state_t_grad_32', 'top_bottom_state_t_grad_33',\n",
       "       'top_bottom_state_t_grad_34', 'top_bottom_state_t_grad_35',\n",
       "       'top_bottom_state_t_grad_36', 'top_bottom_state_t_grad_37',\n",
       "       'top_bottom_state_t_grad_38', 'top_bottom_state_t_grad_39',\n",
       "       'top_bottom_state_t_grad_40', 'top_bottom_state_t_grad_41',\n",
       "       'top_bottom_state_t_grad_42', 'top_bottom_state_t_grad_43',\n",
       "       'top_bottom_state_t_grad_44', 'top_bottom_state_t_grad_45',\n",
       "       'top_bottom_state_t_grad_46', 'top_bottom_state_t_grad_47',\n",
       "       'top_bottom_state_t_grad_48', 'top_bottom_state_t_grad_49',\n",
       "       'top_bottom_state_t_grad_50', 'top_bottom_state_t_grad_51',\n",
       "       'top_bottom_state_t_grad_52', 'top_bottom_state_t_grad_53',\n",
       "       'top_bottom_state_t_grad_54', 'top_bottom_state_t_grad_55',\n",
       "       'top_bottom_state_t_grad_56', 'top_bottom_state_t_grad_57',\n",
       "       'top_bottom_state_t_grad_58', 'top_bottom_state_t_grad_59',\n",
       "       'top_bottom_state_q0001_grad_0', 'top_bottom_state_q0001_grad_1',\n",
       "       'top_bottom_state_q0001_grad_2', 'top_bottom_state_q0001_grad_3',\n",
       "       'top_bottom_state_q0001_grad_4', 'top_bottom_state_q0001_grad_5',\n",
       "       'top_bottom_state_q0001_grad_6', 'top_bottom_state_q0001_grad_7',\n",
       "       'top_bottom_state_q0001_grad_8', 'top_bottom_state_q0001_grad_9',\n",
       "       'top_bottom_state_q0001_grad_10', 'top_bottom_state_q0001_grad_11',\n",
       "       'top_bottom_state_q0001_grad_12', 'top_bottom_state_q0001_grad_13',\n",
       "       'top_bottom_state_q0001_grad_14', 'top_bottom_state_q0001_grad_15',\n",
       "       'top_bottom_state_q0001_grad_16', 'top_bottom_state_q0001_grad_17',\n",
       "       'top_bottom_state_q0001_grad_18', 'top_bottom_state_q0001_grad_19',\n",
       "       'top_bottom_state_q0001_grad_20', 'top_bottom_state_q0001_grad_21',\n",
       "       'top_bottom_state_q0001_grad_22', 'top_bottom_state_q0001_grad_23',\n",
       "       'top_bottom_state_q0001_grad_24', 'top_bottom_state_q0001_grad_25',\n",
       "       'top_bottom_state_q0001_grad_26', 'top_bottom_state_q0001_grad_27',\n",
       "       'top_bottom_state_q0001_grad_28', 'top_bottom_state_q0001_grad_29',\n",
       "       'top_bottom_state_q0001_grad_30', 'top_bottom_state_q0001_grad_31',\n",
       "       'top_bottom_state_q0001_grad_32', 'top_bottom_state_q0001_grad_33',\n",
       "       'top_bottom_state_q0001_grad_34', 'top_bottom_state_q0001_grad_35',\n",
       "       'top_bottom_state_q0001_grad_36', 'top_bottom_state_q0001_grad_37',\n",
       "       'top_bottom_state_q0001_grad_38', 'top_bottom_state_q0001_grad_39',\n",
       "       'top_bottom_state_q0001_grad_40', 'top_bottom_state_q0001_grad_41',\n",
       "       'top_bottom_state_q0001_grad_42', 'top_bottom_state_q0001_grad_43',\n",
       "       'top_bottom_state_q0001_grad_44', 'top_bottom_state_q0001_grad_45',\n",
       "       'top_bottom_state_q0001_grad_46', 'top_bottom_state_q0001_grad_47',\n",
       "       'top_bottom_state_q0001_grad_48', 'top_bottom_state_q0001_grad_49',\n",
       "       'top_bottom_state_q0001_grad_50', 'top_bottom_state_q0001_grad_51',\n",
       "       'top_bottom_state_q0001_grad_52', 'top_bottom_state_q0001_grad_53',\n",
       "       'top_bottom_state_q0001_grad_54', 'top_bottom_state_q0001_grad_55',\n",
       "       'top_bottom_state_q0001_grad_56', 'top_bottom_state_q0001_grad_57',\n",
       "       'top_bottom_state_q0001_grad_58', 'top_bottom_state_q0001_grad_59',\n",
       "       'top_bottom_state_q0002_grad_0', 'top_bottom_state_q0002_grad_1',\n",
       "       'top_bottom_state_q0002_grad_2', 'top_bottom_state_q0002_grad_3',\n",
       "       'top_bottom_state_q0002_grad_4', 'top_bottom_state_q0002_grad_5',\n",
       "       'top_bottom_state_q0002_grad_6', 'top_bottom_state_q0002_grad_7',\n",
       "       'top_bottom_state_q0002_grad_8', 'top_bottom_state_q0002_grad_9',\n",
       "       'top_bottom_state_q0002_grad_10', 'top_bottom_state_q0002_grad_11',\n",
       "       'top_bottom_state_q0002_grad_12', 'top_bottom_state_q0002_grad_13',\n",
       "       'top_bottom_state_q0002_grad_14', 'top_bottom_state_q0002_grad_15',\n",
       "       'top_bottom_state_q0002_grad_16', 'top_bottom_state_q0002_grad_17',\n",
       "       'top_bottom_state_q0002_grad_18', 'top_bottom_state_q0002_grad_19',\n",
       "       'top_bottom_state_q0002_grad_20', 'top_bottom_state_q0002_grad_21',\n",
       "       'top_bottom_state_q0002_grad_22', 'top_bottom_state_q0002_grad_23',\n",
       "       'top_bottom_state_q0002_grad_24', 'top_bottom_state_q0002_grad_25',\n",
       "       'top_bottom_state_q0002_grad_26', 'top_bottom_state_q0002_grad_27',\n",
       "       'top_bottom_state_q0002_grad_28', 'top_bottom_state_q0002_grad_29',\n",
       "       'top_bottom_state_q0002_grad_30', 'top_bottom_state_q0002_grad_31',\n",
       "       'top_bottom_state_q0002_grad_32', 'top_bottom_state_q0002_grad_33',\n",
       "       'top_bottom_state_q0002_grad_34', 'top_bottom_state_q0002_grad_35',\n",
       "       'top_bottom_state_q0002_grad_36', 'top_bottom_state_q0002_grad_37',\n",
       "       'top_bottom_state_q0002_grad_38', 'top_bottom_state_q0002_grad_39',\n",
       "       'top_bottom_state_q0002_grad_40', 'top_bottom_state_q0002_grad_41',\n",
       "       'top_bottom_state_q0002_grad_42', 'top_bottom_state_q0002_grad_43',\n",
       "       'top_bottom_state_q0002_grad_44', 'top_bottom_state_q0002_grad_45',\n",
       "       'top_bottom_state_q0002_grad_46', 'top_bottom_state_q0002_grad_47',\n",
       "       'top_bottom_state_q0002_grad_48', 'top_bottom_state_q0002_grad_49',\n",
       "       'top_bottom_state_q0002_grad_50', 'top_bottom_state_q0002_grad_51',\n",
       "       'top_bottom_state_q0002_grad_52', 'top_bottom_state_q0002_grad_53',\n",
       "       'top_bottom_state_q0002_grad_54', 'top_bottom_state_q0002_grad_55',\n",
       "       'top_bottom_state_q0002_grad_56', 'top_bottom_state_q0002_grad_57',\n",
       "       'top_bottom_state_q0002_grad_58', 'top_bottom_state_q0002_grad_59',\n",
       "       'top_bottom_state_q0003_grad_0', 'top_bottom_state_q0003_grad_1',\n",
       "       'top_bottom_state_q0003_grad_2', 'top_bottom_state_q0003_grad_3',\n",
       "       'top_bottom_state_q0003_grad_4', 'top_bottom_state_q0003_grad_5',\n",
       "       'top_bottom_state_q0003_grad_6', 'top_bottom_state_q0003_grad_7',\n",
       "       'top_bottom_state_q0003_grad_8', 'top_bottom_state_q0003_grad_9',\n",
       "       'top_bottom_state_q0003_grad_10', 'top_bottom_state_q0003_grad_11',\n",
       "       'top_bottom_state_q0003_grad_12', 'top_bottom_state_q0003_grad_13',\n",
       "       'top_bottom_state_q0003_grad_14', 'top_bottom_state_q0003_grad_15',\n",
       "       'top_bottom_state_q0003_grad_16', 'top_bottom_state_q0003_grad_17',\n",
       "       'top_bottom_state_q0003_grad_18', 'top_bottom_state_q0003_grad_19',\n",
       "       'top_bottom_state_q0003_grad_20', 'top_bottom_state_q0003_grad_21',\n",
       "       'top_bottom_state_q0003_grad_22', 'top_bottom_state_q0003_grad_23',\n",
       "       'top_bottom_state_q0003_grad_24', 'top_bottom_state_q0003_grad_25',\n",
       "       'top_bottom_state_q0003_grad_26', 'top_bottom_state_q0003_grad_27',\n",
       "       'top_bottom_state_q0003_grad_28', 'top_bottom_state_q0003_grad_29',\n",
       "       'top_bottom_state_q0003_grad_30', 'top_bottom_state_q0003_grad_31',\n",
       "       'top_bottom_state_q0003_grad_32', 'top_bottom_state_q0003_grad_33',\n",
       "       'top_bottom_state_q0003_grad_34', 'top_bottom_state_q0003_grad_35',\n",
       "       'top_bottom_state_q0003_grad_36', 'top_bottom_state_q0003_grad_37',\n",
       "       'top_bottom_state_q0003_grad_38', 'top_bottom_state_q0003_grad_39',\n",
       "       'top_bottom_state_q0003_grad_40', 'top_bottom_state_q0003_grad_41',\n",
       "       'top_bottom_state_q0003_grad_42', 'top_bottom_state_q0003_grad_43',\n",
       "       'top_bottom_state_q0003_grad_44', 'top_bottom_state_q0003_grad_45',\n",
       "       'top_bottom_state_q0003_grad_46', 'top_bottom_state_q0003_grad_47',\n",
       "       'top_bottom_state_q0003_grad_48', 'top_bottom_state_q0003_grad_49',\n",
       "       'top_bottom_state_q0003_grad_50', 'top_bottom_state_q0003_grad_51',\n",
       "       'top_bottom_state_q0003_grad_52', 'top_bottom_state_q0003_grad_53',\n",
       "       'top_bottom_state_q0003_grad_54', 'top_bottom_state_q0003_grad_55',\n",
       "       'top_bottom_state_q0003_grad_56', 'top_bottom_state_q0003_grad_57',\n",
       "       'top_bottom_state_q0003_grad_58', 'top_bottom_state_q0003_grad_59',\n",
       "       'top_bottom_pbuf_ozone_grad_0', 'top_bottom_pbuf_ozone_grad_1',\n",
       "       'top_bottom_pbuf_ozone_grad_2', 'top_bottom_pbuf_ozone_grad_3',\n",
       "       'top_bottom_pbuf_ozone_grad_4', 'top_bottom_pbuf_ozone_grad_5',\n",
       "       'top_bottom_pbuf_ozone_grad_6', 'top_bottom_pbuf_ozone_grad_7',\n",
       "       'top_bottom_pbuf_ozone_grad_8', 'top_bottom_pbuf_ozone_grad_9',\n",
       "       'top_bottom_pbuf_ozone_grad_10', 'top_bottom_pbuf_ozone_grad_11',\n",
       "       'top_bottom_pbuf_ozone_grad_12', 'top_bottom_pbuf_ozone_grad_13',\n",
       "       'top_bottom_pbuf_ozone_grad_14', 'top_bottom_pbuf_ozone_grad_15',\n",
       "       'top_bottom_pbuf_ozone_grad_16', 'top_bottom_pbuf_ozone_grad_17',\n",
       "       'top_bottom_pbuf_ozone_grad_18', 'top_bottom_pbuf_ozone_grad_19',\n",
       "       'top_bottom_pbuf_ozone_grad_20', 'top_bottom_pbuf_ozone_grad_21',\n",
       "       'top_bottom_pbuf_ozone_grad_22', 'top_bottom_pbuf_ozone_grad_23',\n",
       "       'top_bottom_pbuf_ozone_grad_24', 'top_bottom_pbuf_ozone_grad_25',\n",
       "       'top_bottom_pbuf_ozone_grad_26', 'top_bottom_pbuf_ozone_grad_27',\n",
       "       'top_bottom_pbuf_ozone_grad_28', 'top_bottom_pbuf_ozone_grad_29',\n",
       "       'top_bottom_pbuf_ozone_grad_30', 'top_bottom_pbuf_ozone_grad_31',\n",
       "       'top_bottom_pbuf_ozone_grad_32', 'top_bottom_pbuf_ozone_grad_33',\n",
       "       'top_bottom_pbuf_ozone_grad_34', 'top_bottom_pbuf_ozone_grad_35',\n",
       "       'top_bottom_pbuf_ozone_grad_36', 'top_bottom_pbuf_ozone_grad_37',\n",
       "       'top_bottom_pbuf_ozone_grad_38', 'top_bottom_pbuf_ozone_grad_39',\n",
       "       'top_bottom_pbuf_ozone_grad_40', 'top_bottom_pbuf_ozone_grad_41',\n",
       "       'top_bottom_pbuf_ozone_grad_42', 'top_bottom_pbuf_ozone_grad_43',\n",
       "       'top_bottom_pbuf_ozone_grad_44', 'top_bottom_pbuf_ozone_grad_45',\n",
       "       'top_bottom_pbuf_ozone_grad_46', 'top_bottom_pbuf_ozone_grad_47',\n",
       "       'top_bottom_pbuf_ozone_grad_48', 'top_bottom_pbuf_ozone_grad_49',\n",
       "       'top_bottom_pbuf_ozone_grad_50', 'top_bottom_pbuf_ozone_grad_51',\n",
       "       'top_bottom_pbuf_ozone_grad_52', 'top_bottom_pbuf_ozone_grad_53',\n",
       "       'top_bottom_pbuf_ozone_grad_54', 'top_bottom_pbuf_ozone_grad_55',\n",
       "       'top_bottom_pbuf_ozone_grad_56', 'top_bottom_pbuf_ozone_grad_57',\n",
       "       'top_bottom_pbuf_ozone_grad_58', 'top_bottom_pbuf_ozone_grad_59',\n",
       "       'top_bottom_pbuf_CH4_grad_0', 'top_bottom_pbuf_CH4_grad_1',\n",
       "       'top_bottom_pbuf_CH4_grad_2', 'top_bottom_pbuf_CH4_grad_3',\n",
       "       'top_bottom_pbuf_CH4_grad_4', 'top_bottom_pbuf_CH4_grad_5',\n",
       "       'top_bottom_pbuf_CH4_grad_6', 'top_bottom_pbuf_CH4_grad_7',\n",
       "       'top_bottom_pbuf_CH4_grad_8', 'top_bottom_pbuf_CH4_grad_9',\n",
       "       'top_bottom_pbuf_CH4_grad_10', 'top_bottom_pbuf_CH4_grad_11',\n",
       "       'top_bottom_pbuf_CH4_grad_12', 'top_bottom_pbuf_CH4_grad_13',\n",
       "       'top_bottom_pbuf_CH4_grad_14', 'top_bottom_pbuf_CH4_grad_15',\n",
       "       'top_bottom_pbuf_CH4_grad_16', 'top_bottom_pbuf_CH4_grad_17',\n",
       "       'top_bottom_pbuf_CH4_grad_18', 'top_bottom_pbuf_CH4_grad_19',\n",
       "       'top_bottom_pbuf_CH4_grad_20', 'top_bottom_pbuf_CH4_grad_21',\n",
       "       'top_bottom_pbuf_CH4_grad_22', 'top_bottom_pbuf_CH4_grad_23',\n",
       "       'top_bottom_pbuf_CH4_grad_24', 'top_bottom_pbuf_CH4_grad_25',\n",
       "       'top_bottom_pbuf_CH4_grad_26', 'top_bottom_pbuf_CH4_grad_27',\n",
       "       'top_bottom_pbuf_CH4_grad_28', 'top_bottom_pbuf_CH4_grad_29',\n",
       "       'top_bottom_pbuf_CH4_grad_30', 'top_bottom_pbuf_CH4_grad_31',\n",
       "       'top_bottom_pbuf_CH4_grad_32', 'top_bottom_pbuf_CH4_grad_33',\n",
       "       'top_bottom_pbuf_CH4_grad_34', 'top_bottom_pbuf_CH4_grad_35',\n",
       "       'top_bottom_pbuf_CH4_grad_36', 'top_bottom_pbuf_CH4_grad_37',\n",
       "       'top_bottom_pbuf_CH4_grad_38', 'top_bottom_pbuf_CH4_grad_39',\n",
       "       'top_bottom_pbuf_CH4_grad_40', 'top_bottom_pbuf_CH4_grad_41',\n",
       "       'top_bottom_pbuf_CH4_grad_42', 'top_bottom_pbuf_CH4_grad_43',\n",
       "       'top_bottom_pbuf_CH4_grad_44', 'top_bottom_pbuf_CH4_grad_45',\n",
       "       'top_bottom_pbuf_CH4_grad_46', 'top_bottom_pbuf_CH4_grad_47',\n",
       "       'top_bottom_pbuf_CH4_grad_48', 'top_bottom_pbuf_CH4_grad_49',\n",
       "       'top_bottom_pbuf_CH4_grad_50', 'top_bottom_pbuf_CH4_grad_51',\n",
       "       'top_bottom_pbuf_CH4_grad_52', 'top_bottom_pbuf_CH4_grad_53',\n",
       "       'top_bottom_pbuf_CH4_grad_54', 'top_bottom_pbuf_CH4_grad_55',\n",
       "       'top_bottom_pbuf_CH4_grad_56', 'top_bottom_pbuf_CH4_grad_57',\n",
       "       'top_bottom_pbuf_CH4_grad_58', 'top_bottom_pbuf_CH4_grad_59',\n",
       "       'top_bottom_pbuf_N2O_grad_0', 'top_bottom_pbuf_N2O_grad_1',\n",
       "       'top_bottom_pbuf_N2O_grad_2', 'top_bottom_pbuf_N2O_grad_3',\n",
       "       'top_bottom_pbuf_N2O_grad_4', 'top_bottom_pbuf_N2O_grad_5',\n",
       "       'top_bottom_pbuf_N2O_grad_6', 'top_bottom_pbuf_N2O_grad_7',\n",
       "       'top_bottom_pbuf_N2O_grad_8', 'top_bottom_pbuf_N2O_grad_9',\n",
       "       'top_bottom_pbuf_N2O_grad_10', 'top_bottom_pbuf_N2O_grad_11',\n",
       "       'top_bottom_pbuf_N2O_grad_12', 'top_bottom_pbuf_N2O_grad_13',\n",
       "       'top_bottom_pbuf_N2O_grad_14', 'top_bottom_pbuf_N2O_grad_15',\n",
       "       'top_bottom_pbuf_N2O_grad_16', 'top_bottom_pbuf_N2O_grad_17',\n",
       "       'top_bottom_pbuf_N2O_grad_18', 'top_bottom_pbuf_N2O_grad_19',\n",
       "       'top_bottom_pbuf_N2O_grad_20', 'top_bottom_pbuf_N2O_grad_21',\n",
       "       'top_bottom_pbuf_N2O_grad_22', 'top_bottom_pbuf_N2O_grad_23',\n",
       "       'top_bottom_pbuf_N2O_grad_24', 'top_bottom_pbuf_N2O_grad_25',\n",
       "       'top_bottom_pbuf_N2O_grad_26', 'top_bottom_pbuf_N2O_grad_27',\n",
       "       'top_bottom_pbuf_N2O_grad_28', 'top_bottom_pbuf_N2O_grad_29',\n",
       "       'top_bottom_pbuf_N2O_grad_30', 'top_bottom_pbuf_N2O_grad_31',\n",
       "       'top_bottom_pbuf_N2O_grad_32', 'top_bottom_pbuf_N2O_grad_33',\n",
       "       'top_bottom_pbuf_N2O_grad_34', 'top_bottom_pbuf_N2O_grad_35',\n",
       "       'top_bottom_pbuf_N2O_grad_36', 'top_bottom_pbuf_N2O_grad_37',\n",
       "       'top_bottom_pbuf_N2O_grad_38', 'top_bottom_pbuf_N2O_grad_39',\n",
       "       'top_bottom_pbuf_N2O_grad_40', 'top_bottom_pbuf_N2O_grad_41',\n",
       "       'top_bottom_pbuf_N2O_grad_42', 'top_bottom_pbuf_N2O_grad_43',\n",
       "       'top_bottom_pbuf_N2O_grad_44', 'top_bottom_pbuf_N2O_grad_45',\n",
       "       'top_bottom_pbuf_N2O_grad_46', 'top_bottom_pbuf_N2O_grad_47',\n",
       "       'top_bottom_pbuf_N2O_grad_48', 'top_bottom_pbuf_N2O_grad_49',\n",
       "       'top_bottom_pbuf_N2O_grad_50', 'top_bottom_pbuf_N2O_grad_51',\n",
       "       'top_bottom_pbuf_N2O_grad_52', 'top_bottom_pbuf_N2O_grad_53',\n",
       "       'top_bottom_pbuf_N2O_grad_54', 'top_bottom_pbuf_N2O_grad_55',\n",
       "       'top_bottom_pbuf_N2O_grad_56', 'top_bottom_pbuf_N2O_grad_57',\n",
       "       'top_bottom_pbuf_N2O_grad_58', 'top_bottom_pbuf_N2O_grad_59',\n",
       "       'top_bottom_wind_speed_grad_0', 'top_bottom_wind_speed_grad_1',\n",
       "       'top_bottom_wind_speed_grad_2', 'top_bottom_wind_speed_grad_3',\n",
       "       'top_bottom_wind_speed_grad_4', 'top_bottom_wind_speed_grad_5',\n",
       "       'top_bottom_wind_speed_grad_6', 'top_bottom_wind_speed_grad_7',\n",
       "       'top_bottom_wind_speed_grad_8', 'top_bottom_wind_speed_grad_9',\n",
       "       'top_bottom_wind_speed_grad_10', 'top_bottom_wind_speed_grad_11',\n",
       "       'top_bottom_wind_speed_grad_12', 'top_bottom_wind_speed_grad_13',\n",
       "       'top_bottom_wind_speed_grad_14', 'top_bottom_wind_speed_grad_15',\n",
       "       'top_bottom_wind_speed_grad_16', 'top_bottom_wind_speed_grad_17',\n",
       "       'top_bottom_wind_speed_grad_18', 'top_bottom_wind_speed_grad_19',\n",
       "       'top_bottom_wind_speed_grad_20', 'top_bottom_wind_speed_grad_21',\n",
       "       'top_bottom_wind_speed_grad_22', 'top_bottom_wind_speed_grad_23',\n",
       "       'top_bottom_wind_speed_grad_24', 'top_bottom_wind_speed_grad_25',\n",
       "       'top_bottom_wind_speed_grad_26', 'top_bottom_wind_speed_grad_27',\n",
       "       'top_bottom_wind_speed_grad_28', 'top_bottom_wind_speed_grad_29',\n",
       "       'top_bottom_wind_speed_grad_30', 'top_bottom_wind_speed_grad_31',\n",
       "       'top_bottom_wind_speed_grad_32', 'top_bottom_wind_speed_grad_33',\n",
       "       'top_bottom_wind_speed_grad_34', 'top_bottom_wind_speed_grad_35',\n",
       "       'top_bottom_wind_speed_grad_36', 'top_bottom_wind_speed_grad_37',\n",
       "       'top_bottom_wind_speed_grad_38', 'top_bottom_wind_speed_grad_39',\n",
       "       'top_bottom_wind_speed_grad_40', 'top_bottom_wind_speed_grad_41',\n",
       "       'top_bottom_wind_speed_grad_42', 'top_bottom_wind_speed_grad_43',\n",
       "       'top_bottom_wind_speed_grad_44', 'top_bottom_wind_speed_grad_45',\n",
       "       'top_bottom_wind_speed_grad_46', 'top_bottom_wind_speed_grad_47',\n",
       "       'top_bottom_wind_speed_grad_48', 'top_bottom_wind_speed_grad_49',\n",
       "       'top_bottom_wind_speed_grad_50', 'top_bottom_wind_speed_grad_51',\n",
       "       'top_bottom_wind_speed_grad_52', 'top_bottom_wind_speed_grad_53',\n",
       "       'top_bottom_wind_speed_grad_54', 'top_bottom_wind_speed_grad_55',\n",
       "       'top_bottom_wind_speed_grad_56', 'top_bottom_wind_speed_grad_57',\n",
       "       'top_bottom_wind_speed_grad_58', 'top_bottom_wind_speed_grad_59',\n",
       "       'pbuf_ozone_grad_0', 'pbuf_ozone_grad_1', 'pbuf_ozone_grad_2',\n",
       "       'pbuf_ozone_grad_3', 'pbuf_ozone_grad_4', 'pbuf_ozone_grad_5',\n",
       "       'pbuf_ozone_grad_6', 'pbuf_ozone_grad_7', 'pbuf_ozone_grad_8',\n",
       "       'pbuf_ozone_grad_9', 'pbuf_ozone_grad_10', 'pbuf_ozone_grad_11',\n",
       "       'pbuf_ozone_grad_12', 'pbuf_ozone_grad_13', 'pbuf_ozone_grad_14',\n",
       "       'pbuf_ozone_grad_15', 'pbuf_ozone_grad_16', 'pbuf_ozone_grad_17',\n",
       "       'pbuf_ozone_grad_18', 'pbuf_ozone_grad_19', 'pbuf_ozone_grad_20',\n",
       "       'pbuf_ozone_grad_21', 'pbuf_ozone_grad_22', 'pbuf_ozone_grad_23',\n",
       "       'pbuf_ozone_grad_24', 'pbuf_ozone_grad_25', 'pbuf_ozone_grad_26',\n",
       "       'pbuf_ozone_grad_27', 'pbuf_ozone_grad_28', 'pbuf_ozone_grad_29',\n",
       "       'pbuf_ozone_grad_30', 'pbuf_ozone_grad_31', 'pbuf_ozone_grad_32',\n",
       "       'pbuf_ozone_grad_33', 'pbuf_ozone_grad_34', 'pbuf_ozone_grad_35',\n",
       "       'pbuf_ozone_grad_36', 'pbuf_ozone_grad_37', 'pbuf_ozone_grad_38',\n",
       "       'pbuf_ozone_grad_39', 'pbuf_ozone_grad_40', 'pbuf_ozone_grad_41',\n",
       "       'pbuf_ozone_grad_42', 'pbuf_ozone_grad_43', 'pbuf_ozone_grad_44',\n",
       "       'pbuf_ozone_grad_45', 'pbuf_ozone_grad_46', 'pbuf_ozone_grad_47',\n",
       "       'pbuf_ozone_grad_48', 'pbuf_ozone_grad_49', 'pbuf_ozone_grad_50',\n",
       "       'pbuf_ozone_grad_51', 'pbuf_ozone_grad_52', 'pbuf_ozone_grad_53',\n",
       "       'pbuf_ozone_grad_54', 'pbuf_ozone_grad_55', 'pbuf_ozone_grad_56',\n",
       "       'pbuf_ozone_grad_57', 'pbuf_ozone_grad_58', 'pbuf_ozone_grad_59',\n",
       "       'pbuf_CH4_grad_0', 'pbuf_CH4_grad_1', 'pbuf_CH4_grad_2',\n",
       "       'pbuf_CH4_grad_3', 'pbuf_CH4_grad_4', 'pbuf_CH4_grad_5',\n",
       "       'pbuf_CH4_grad_6', 'pbuf_CH4_grad_7', 'pbuf_CH4_grad_8',\n",
       "       'pbuf_CH4_grad_9', 'pbuf_CH4_grad_10', 'pbuf_CH4_grad_11',\n",
       "       'pbuf_CH4_grad_12', 'pbuf_CH4_grad_13', 'pbuf_CH4_grad_14',\n",
       "       'pbuf_CH4_grad_15', 'pbuf_CH4_grad_16', 'pbuf_CH4_grad_17',\n",
       "       'pbuf_CH4_grad_18', 'pbuf_CH4_grad_19', 'pbuf_CH4_grad_20',\n",
       "       'pbuf_CH4_grad_21', 'pbuf_CH4_grad_22', 'pbuf_CH4_grad_23',\n",
       "       'pbuf_CH4_grad_24', 'pbuf_CH4_grad_25', 'pbuf_CH4_grad_26',\n",
       "       'pbuf_CH4_grad_27', 'pbuf_CH4_grad_28', 'pbuf_CH4_grad_29',\n",
       "       'pbuf_CH4_grad_30', 'pbuf_CH4_grad_31', 'pbuf_CH4_grad_32',\n",
       "       'pbuf_CH4_grad_33', 'pbuf_CH4_grad_34', 'pbuf_CH4_grad_35',\n",
       "       'pbuf_CH4_grad_36', 'pbuf_CH4_grad_37', 'pbuf_CH4_grad_38',\n",
       "       'pbuf_CH4_grad_39', 'pbuf_CH4_grad_40', 'pbuf_CH4_grad_41',\n",
       "       'pbuf_CH4_grad_42', 'pbuf_CH4_grad_43', 'pbuf_CH4_grad_44',\n",
       "       'pbuf_CH4_grad_45', 'pbuf_CH4_grad_46', 'pbuf_CH4_grad_47',\n",
       "       'pbuf_CH4_grad_48', 'pbuf_CH4_grad_49', 'pbuf_CH4_grad_50',\n",
       "       'pbuf_CH4_grad_51', 'pbuf_CH4_grad_52', 'pbuf_CH4_grad_53',\n",
       "       'pbuf_CH4_grad_54', 'pbuf_CH4_grad_55', 'pbuf_CH4_grad_56',\n",
       "       'pbuf_CH4_grad_57', 'pbuf_CH4_grad_58', 'pbuf_CH4_grad_59',\n",
       "       'pbuf_N2O_grad_0', 'pbuf_N2O_grad_1', 'pbuf_N2O_grad_2',\n",
       "       'pbuf_N2O_grad_3', 'pbuf_N2O_grad_4', 'pbuf_N2O_grad_5',\n",
       "       'pbuf_N2O_grad_6', 'pbuf_N2O_grad_7', 'pbuf_N2O_grad_8',\n",
       "       'pbuf_N2O_grad_9', 'pbuf_N2O_grad_10', 'pbuf_N2O_grad_11',\n",
       "       'pbuf_N2O_grad_12', 'pbuf_N2O_grad_13', 'pbuf_N2O_grad_14',\n",
       "       'pbuf_N2O_grad_15', 'pbuf_N2O_grad_16', 'pbuf_N2O_grad_17',\n",
       "       'pbuf_N2O_grad_18', 'pbuf_N2O_grad_19', 'pbuf_N2O_grad_20',\n",
       "       'pbuf_N2O_grad_21', 'pbuf_N2O_grad_22', 'pbuf_N2O_grad_23',\n",
       "       'pbuf_N2O_grad_24', 'pbuf_N2O_grad_25', 'pbuf_N2O_grad_26',\n",
       "       'pbuf_N2O_grad_27', 'pbuf_N2O_grad_28', 'pbuf_N2O_grad_29',\n",
       "       'pbuf_N2O_grad_30', 'pbuf_N2O_grad_31', 'pbuf_N2O_grad_32',\n",
       "       'pbuf_N2O_grad_33', 'pbuf_N2O_grad_34', 'pbuf_N2O_grad_35',\n",
       "       'pbuf_N2O_grad_36', 'pbuf_N2O_grad_37', 'pbuf_N2O_grad_38',\n",
       "       'pbuf_N2O_grad_39', 'pbuf_N2O_grad_40', 'pbuf_N2O_grad_41',\n",
       "       'pbuf_N2O_grad_42', 'pbuf_N2O_grad_43', 'pbuf_N2O_grad_44',\n",
       "       'pbuf_N2O_grad_45', 'pbuf_N2O_grad_46', 'pbuf_N2O_grad_47',\n",
       "       'pbuf_N2O_grad_48', 'pbuf_N2O_grad_49', 'pbuf_N2O_grad_50',\n",
       "       'pbuf_N2O_grad_51', 'pbuf_N2O_grad_52', 'pbuf_N2O_grad_53',\n",
       "       'pbuf_N2O_grad_54', 'pbuf_N2O_grad_55', 'pbuf_N2O_grad_56',\n",
       "       'pbuf_N2O_grad_57', 'pbuf_N2O_grad_58', 'pbuf_N2O_grad_59',\n",
       "       'pbuf_SOLIN * pbuf_COSZRS',\n",
       "       'pbuf_SOLIN * cam_in_ASDIF * pbuf_COSZRS',\n",
       "       'pbuf_SOLIN * cam_in_ASDIR * pbuf_COSZRS',\n",
       "       'cam_in_LWUP * cam_in_ALDIF', 'cam_in_LWUP * cam_in_ALDIR'],\n",
       "      dtype=object)"
      ]
     },
     "execution_count": 3,
     "metadata": {},
     "output_type": "execute_result"
    }
   ],
   "source": [
    "feature_scaler.feature_names_in_"
   ]
  },
  {
   "cell_type": "code",
   "execution_count": null,
   "metadata": {},
   "outputs": [],
   "source": [
    "import torch\n",
    "\n",
    "x = torch.rand(2, 384, args.in_channel, 60)\n",
    "y = model(x)"
   ]
  },
  {
   "cell_type": "code",
   "execution_count": null,
   "metadata": {},
   "outputs": [],
   "source": [
    "y.shape"
   ]
  },
  {
   "cell_type": "code",
   "execution_count": null,
   "metadata": {},
   "outputs": [],
   "source": [
    "sum(p.numel() for p in model.parameters() if p.requires_grad)"
   ]
  },
  {
   "cell_type": "code",
   "execution_count": null,
   "metadata": {},
   "outputs": [],
   "source": [
    "import torch\n",
    "import torch.nn.functional as F\n",
    "\n",
    "x = torch.arange(30).reshape(1, 1, 30).float()\n",
    "F.interpolate(x, size=60, mode=\"linear\"), x"
   ]
  },
  {
   "cell_type": "code",
   "execution_count": null,
   "metadata": {},
   "outputs": [],
   "source": [
    "from models.LSTM import Model\n",
    "\n",
    "\n",
    "class Args():\n",
    "    def __init__(self) -> None:\n",
    "        self.in_channel = 9 + 16\n",
    "        self.d_model = 768\n",
    "        self.n_layers = 4\n",
    "        self.dropout = 0.2\n",
    "        self.bidirectional = True\n",
    "        self.out_channel = 6 + 8\n",
    "        self.add_cnn = False\n",
    "        self.add_sa = False\n",
    "        self.nhead = 24\n",
    "\n",
    "args = Args()\n",
    "model = Model(args)\n",
    "sum(p.numel() for p in model.parameters() if p.requires_grad)"
   ]
  },
  {
   "cell_type": "code",
   "execution_count": null,
   "metadata": {},
   "outputs": [],
   "source": [
    "import torch\n",
    "x = torch.rand(2, 60, args.in_channel)\n",
    "y = model(x)"
   ]
  },
  {
   "cell_type": "code",
   "execution_count": null,
   "metadata": {},
   "outputs": [],
   "source": [
    "y.shape"
   ]
  },
  {
   "cell_type": "code",
   "execution_count": null,
   "metadata": {},
   "outputs": [],
   "source": [
    "import torch.nn.functional as F\n",
    "\n",
    "F.interpolate(torch.arange(12).reshape(1, 1, 12).float(), 24, mode=\"linear\", align_corners=False)"
   ]
  },
  {
   "cell_type": "code",
   "execution_count": null,
   "metadata": {},
   "outputs": [],
   "source": [
    "import polars as pl\n",
    "\n",
    "# 创建示例数据\n",
    "data = {\n",
    "    'id': [f'train_id_{i}' for i in [5, 3, 1, 4, 2]],\n",
    "    'value': [10, 20, 30, 40, 50]\n",
    "}\n",
    "df = pl.DataFrame(data)\n",
    "\n",
    "# 提取id中的数值部分并转换为整数\n",
    "df = df.with_columns(\n",
    "    pl.col('id').str.extract(r'train_id_(\\d+)', 1).cast(pl.Int64).alias('id_numeric')\n",
    ")\n",
    "\n",
    "# 根据提取的数值部分进行排序\n",
    "df_sorted = df.sort('id_numeric')\n",
    "\n",
    "# 去除辅助列\n",
    "df_sorted = df_sorted.drop('id_numeric')\n",
    "\n",
    "# 查看结果\n",
    "print(df_sorted)\n"
   ]
  },
  {
   "cell_type": "code",
   "execution_count": null,
   "metadata": {},
   "outputs": [],
   "source": [
    "for name, param in model.named_parameters():\n",
    "    if 'sa' not in name and 'cnn' not in name:\n",
    "        param.requires_grad = False\n",
    "\n",
    "for name, param in model.named_parameters():\n",
    "    print(f\"{name} requires_grad: {param.requires_grad}\")"
   ]
  },
  {
   "cell_type": "code",
   "execution_count": null,
   "metadata": {},
   "outputs": [],
   "source": [
    "sum(p.numel() for p in model.parameters() if p.requires_grad)"
   ]
  },
  {
   "cell_type": "code",
   "execution_count": null,
   "metadata": {},
   "outputs": [],
   "source": [
    "import numpy as np\n",
    "\n",
    "a = np.load(\"dataset/ClimSim_2D/0.npz\", allow_pickle=True)\n",
    "a[\"single_y\"].dtype"
   ]
  },
  {
   "cell_type": "code",
   "execution_count": 2,
   "metadata": {},
   "outputs": [
    {
     "data": {
      "text/plain": [
       "odict_keys(['module.lstm.weight_ih_l0', 'module.lstm.weight_hh_l0', 'module.lstm.bias_ih_l0', 'module.lstm.bias_hh_l0', 'module.lstm.weight_ih_l0_reverse', 'module.lstm.weight_hh_l0_reverse', 'module.lstm.bias_ih_l0_reverse', 'module.lstm.bias_hh_l0_reverse', 'module.lstm.weight_ih_l1', 'module.lstm.weight_hh_l1', 'module.lstm.bias_ih_l1', 'module.lstm.bias_hh_l1', 'module.lstm.weight_ih_l1_reverse', 'module.lstm.weight_hh_l1_reverse', 'module.lstm.bias_ih_l1_reverse', 'module.lstm.bias_hh_l1_reverse', 'module.lstm.weight_ih_l2', 'module.lstm.weight_hh_l2', 'module.lstm.bias_ih_l2', 'module.lstm.bias_hh_l2', 'module.lstm.weight_ih_l2_reverse', 'module.lstm.weight_hh_l2_reverse', 'module.lstm.bias_ih_l2_reverse', 'module.lstm.bias_hh_l2_reverse', 'module.lstm.weight_ih_l3', 'module.lstm.weight_hh_l3', 'module.lstm.bias_ih_l3', 'module.lstm.bias_hh_l3', 'module.lstm.weight_ih_l3_reverse', 'module.lstm.weight_hh_l3_reverse', 'module.lstm.bias_ih_l3_reverse', 'module.lstm.bias_hh_l3_reverse', 'module.projection.weight', 'module.projection.bias'])"
      ]
     },
     "execution_count": 2,
     "metadata": {},
     "output_type": "execute_result"
    }
   ],
   "source": [
    "import torch\n",
    "torch.load(\"checkpoints/fe_fe_LSTM_ClimSim1D_ftM_sl96_ll48_pl96_dm768_nh8_el2_dl1_df2048_expand2_dc4_fc1_ebtimeF_dtTrue_Exp_0/checkpoint.pth\", map_location=torch.device('cpu')).keys()"
   ]
  },
  {
   "cell_type": "code",
   "execution_count": 11,
   "metadata": {},
   "outputs": [
    {
     "data": {
      "text/plain": [
       "array([[0, 0, 0, 0, 0, 0, 0, 0, 0, 0, 0, 0, 0, 0, 0, 0, 0, 0, 0, 0, 0, 0,\n",
       "        0, 0, 0, 0, 0, 0, 0, 0, 0, 0, 0, 0, 0, 0, 0, 0, 0, 0, 0, 0, 0, 0,\n",
       "        0, 0, 0, 0, 0, 0, 0, 0, 0, 0, 0, 0, 0, 0, 0, 0, 0, 0, 0, 0, 0, 0,\n",
       "        0, 0, 0, 0, 0, 0, 0, 0, 0, 0, 0, 0, 0, 0, 0, 0, 0, 0, 0, 0, 0, 0,\n",
       "        0, 0, 0, 0, 0, 0, 0, 0, 0, 0, 0, 0, 0, 0, 0, 0, 0, 0, 0, 0, 0, 0,\n",
       "        0, 0, 0, 0, 0, 0, 0, 0, 0, 0, 0, 0, 0, 0, 0, 0, 0, 0, 0, 0, 0, 0,\n",
       "        0, 0, 0, 0, 0, 0, 0, 0, 0, 0, 0, 0, 0, 0, 0, 0, 0, 0, 0, 0, 0, 0,\n",
       "        0, 0, 0, 0, 0, 0, 0, 0, 0, 0, 0, 0, 0, 0, 0, 0, 0, 0, 0, 0, 0, 0,\n",
       "        0, 0, 0, 0, 0, 0, 0, 0, 0, 0, 0, 0, 0, 0, 0, 0, 0, 0, 0, 0, 0, 0,\n",
       "        0, 0, 0, 0, 0, 0, 0, 0, 0, 0, 0, 0, 0, 0, 0, 0, 0, 0, 0, 0, 0, 0,\n",
       "        0, 0, 0, 0, 0, 0, 0, 0, 0, 0, 0, 0, 0, 0, 0, 0, 0, 0, 0, 0, 0, 0,\n",
       "        0, 0, 0, 0, 0, 0, 0, 0, 0, 0, 0, 0, 0, 0, 0, 0, 0, 0, 0, 0, 0, 0,\n",
       "        0, 0, 0, 0, 0, 0, 0, 0, 0, 0, 0, 0, 0, 0, 0, 0, 0, 0, 0, 0, 0, 0,\n",
       "        0, 0, 0, 0, 0, 0, 0, 0, 0, 0, 0, 0, 0, 0, 0, 0, 0, 0, 0, 0, 0, 0,\n",
       "        0, 0, 0, 0, 0, 0, 0, 0, 0, 0, 0, 0, 0, 0, 0, 0, 0, 0, 0, 0, 0, 0,\n",
       "        0, 0, 0, 0, 0, 0, 0, 0, 0, 0, 0, 0, 0, 0, 0, 0, 0, 0, 0, 0, 0, 0,\n",
       "        0, 0, 0, 0, 0, 0, 0, 0, 0, 0]], dtype=uint32)"
      ]
     },
     "execution_count": 11,
     "metadata": {},
     "output_type": "execute_result"
    }
   ],
   "source": [
    "import polars as pl\n",
    "\n",
    "df = pl.read_parquet(\"../huggingface_dataset/feature_engineering_0001-03.parquet\", n_rows=100)\n",
    "df.null_count().to_numpy()"
   ]
  },
  {
   "cell_type": "code",
   "execution_count": null,
   "metadata": {},
   "outputs": [],
   "source": [
    "import polars as pl\n",
    "from joblib import load\n",
    "from sklearn.preprocessing import StandardScaler\n",
    "import matplotlib.pyplot as plt\n",
    "\n",
    "scaler: StandardScaler = load(\"dataset/ClimSim/target_scaler.joblib\")\n",
    "targets = scaler.feature_names_in_.tolist()\n",
    "\n",
    "df = pl.read_parquet(\"dataset/ClimSim/train_set.parquet\", n_rows=100)"
   ]
  },
  {
   "cell_type": "code",
   "execution_count": null,
   "metadata": {},
   "outputs": [],
   "source": [
    "plt.plot(df[[f\"state_t_{i}\" for i in range(60)]].to_numpy()[10])"
   ]
  },
  {
   "cell_type": "code",
   "execution_count": null,
   "metadata": {},
   "outputs": [],
   "source": [
    "y.shape"
   ]
  },
  {
   "cell_type": "code",
   "execution_count": null,
   "metadata": {},
   "outputs": [],
   "source": [
    "import numpy as np\n",
    "\n",
    "x = np.arange(12).reshape(2, 6)\n",
    "\n",
    "x[:, [1, 2]] = 0\n",
    "x"
   ]
  },
  {
   "cell_type": "code",
   "execution_count": null,
   "metadata": {},
   "outputs": [],
   "source": [
    "x.reshape(9, 60)"
   ]
  },
  {
   "cell_type": "code",
   "execution_count": null,
   "metadata": {},
   "outputs": [],
   "source": [
    "import numpy as np\n",
    "\n",
    "cnn_r2 = np.load(\"results/1d_1d_CNN_ClimSim1D_ftM_sl96_ll48_pl96_dm512_nh8_el2_dl1_df2048_expand2_dc4_fc1_ebtimeF_dtTrue_Exp_0/metrics.npy\")\n",
    "lstm_r2 = np.load(\"results/fe_fe_LSTM_ClimSim1D_ftM_sl96_ll48_pl96_dm768_nh8_el2_dl1_df2048_expand2_dc4_fc1_ebtimeF_dtTrue_Exp_0/metrics.npy\")"
   ]
  },
  {
   "cell_type": "code",
   "execution_count": null,
   "metadata": {},
   "outputs": [],
   "source": [
    "from sklearn.preprocessing import StandardScaler\n",
    "from joblib import load\n",
    "\n",
    "target_scaler = load(\"dataset/ClimSim/target_scaler.joblib\")\n",
    "target_name = target_scaler.feature_names_in_"
   ]
  },
  {
   "cell_type": "code",
   "execution_count": null,
   "metadata": {},
   "outputs": [],
   "source": [
    "[(target_name[x], metric[x]) for x in np.nonzero(metric < 0)[0]]"
   ]
  },
  {
   "cell_type": "code",
   "execution_count": null,
   "metadata": {},
   "outputs": [],
   "source": [
    "import polars as pl\n",
    "\n",
    "df = pl.read_parquet(\"dataset/ClimSim/test.parquet\", n_rows=100)\n",
    "df"
   ]
  },
  {
   "cell_type": "code",
   "execution_count": null,
   "metadata": {},
   "outputs": [],
   "source": [
    "import polars as pl\n",
    "\n",
    "test = pl.read_parquet(\"dataset/ClimSim/test.parquet\", n_rows=1000)\n",
    "\n",
    "test[[\"state_t_1\", \"state_t_0\"]]"
   ]
  },
  {
   "cell_type": "code",
   "execution_count": null,
   "metadata": {},
   "outputs": [],
   "source": [
    "from sklearn.metrics import r2_score\n",
    "from tqdm import tqdm\n",
    "\n",
    "r2 = {}\n",
    "for col in tqdm(pred.columns):\n",
    "    r2[col] = r2_score(true[col], pred[col])"
   ]
  },
  {
   "cell_type": "code",
   "execution_count": null,
   "metadata": {},
   "outputs": [],
   "source": [
    "pred"
   ]
  },
  {
   "cell_type": "code",
   "execution_count": null,
   "metadata": {},
   "outputs": [],
   "source": [
    "true"
   ]
  },
  {
   "cell_type": "code",
   "execution_count": null,
   "metadata": {},
   "outputs": [],
   "source": [
    "val = pl.read_parquet(\"dataset/ClimSim/val_set.parquet\", n_rows=1000)"
   ]
  },
  {
   "cell_type": "code",
   "execution_count": null,
   "metadata": {},
   "outputs": [],
   "source": [
    "import polars as pl\n",
    "\n",
    "df_weight = pl.read_parquet(\"dataset/ClimSim/sample_submission.parquet\")"
   ]
  },
  {
   "cell_type": "code",
   "execution_count": null,
   "metadata": {},
   "outputs": [],
   "source": [
    "val = pl.DataFrame(val[true.columns].to_numpy() * df_weight[true.columns].to_numpy(), schema=true.columns, orient=\"row\")\n",
    "val"
   ]
  },
  {
   "cell_type": "code",
   "execution_count": null,
   "metadata": {},
   "outputs": [],
   "source": [
    "val['ptend_t_0']"
   ]
  },
  {
   "cell_type": "code",
   "execution_count": null,
   "metadata": {},
   "outputs": [],
   "source": [
    "true"
   ]
  },
  {
   "cell_type": "code",
   "execution_count": null,
   "metadata": {},
   "outputs": [],
   "source": [
    "pred"
   ]
  },
  {
   "cell_type": "code",
   "execution_count": null,
   "metadata": {},
   "outputs": [],
   "source": [
    "train = pl.read_parquet(\"dataset/ClimSim/train_set.parquet\", n_rows=1000)"
   ]
  },
  {
   "cell_type": "code",
   "execution_count": null,
   "metadata": {},
   "outputs": [],
   "source": [
    "import torch\n",
    "\n",
    "x = torch.arange(24).reshape(3, 8)\n",
    "torch.flip(torch.flip(x, [1]), [1])"
   ]
  },
  {
   "cell_type": "code",
   "execution_count": null,
   "metadata": {},
   "outputs": [],
   "source": [
    "from joblib import load\n",
    "from sklearn.preprocessing import StandardScaler\n",
    "feature_scaler: StandardScaler = load(\"dataset/ClimSim/feature_engineering_feature_scaler.joblib\")\n",
    "feature_scaler.feature_names_in_"
   ]
  },
  {
   "cell_type": "code",
   "execution_count": null,
   "metadata": {},
   "outputs": [],
   "source": [
    "from torch.nn import Transformer\n",
    "import torch\n",
    "\n",
    "Transformer.generate_square_subsequent_mask(10).dtype"
   ]
  },
  {
   "cell_type": "code",
   "execution_count": null,
   "metadata": {},
   "outputs": [],
   "source": [
    "feature_scaler.mean_"
   ]
  },
  {
   "cell_type": "code",
   "execution_count": null,
   "metadata": {},
   "outputs": [],
   "source": [
    "target_scaler: StandardScaler = load(\"dataset/ClimSim/target_scaler.joblib\")\n",
    "target_scaler.feature_names_in_"
   ]
  },
  {
   "cell_type": "code",
   "execution_count": null,
   "metadata": {},
   "outputs": [],
   "source": [
    "target_scaler.scale_"
   ]
  },
  {
   "cell_type": "code",
   "execution_count": null,
   "metadata": {},
   "outputs": [],
   "source": [
    "from joblib import load\n",
    "from sklearn.preprocessing import StandardScaler\n",
    "\n",
    "fs: StandardScaler = load(\"dataset/ClimSim/feature_scaler.joblib\")\n",
    "\n",
    "fs.feature_names_in_"
   ]
  },
  {
   "cell_type": "code",
   "execution_count": null,
   "metadata": {},
   "outputs": [],
   "source": [
    "ts: StandardScaler = load(\"dataset/ClimSim/target_scaler.joblib\")\n",
    "ts.feature_names_in_"
   ]
  },
  {
   "cell_type": "code",
   "execution_count": null,
   "metadata": {},
   "outputs": [],
   "source": [
    "from data_provider.data_loader import ClimSim2D\n",
    "\n",
    "\n",
    "class Args():\n",
    "    def __init__(self) -> None:\n",
    "        self.root_path = \"dataset/ClimSim_2D\"\n",
    "\n",
    "\n",
    "args = Args()\n",
    "data_set = ClimSim2D(args, \"train\")"
   ]
  },
  {
   "cell_type": "code",
   "execution_count": null,
   "metadata": {},
   "outputs": [],
   "source": [
    "[x.shape for x in data_set[0]]"
   ]
  },
  {
   "cell_type": "code",
   "execution_count": null,
   "metadata": {},
   "outputs": [],
   "source": [
    "import numpy as np\n",
    "\n",
    "np.nonzero(data_set.weight[0] != 0)[0].tolist()"
   ]
  },
  {
   "cell_type": "code",
   "execution_count": null,
   "metadata": {},
   "outputs": [],
   "source": [
    "import polars as pl\n",
    "\n",
    "\n",
    "submission = pl.read_parquet(\"output/1d_1d_LSTM_ClimSim1D_ftM_sl96_ll48_pl96_dm64_nh8_el2_dl1_df2048_expand2_dc4_fc1_ebtimeF_dtTrue_Exp_0/submission.parquet\")"
   ]
  },
  {
   "cell_type": "code",
   "execution_count": null,
   "metadata": {},
   "outputs": [],
   "source": [
    "submission.head(10)"
   ]
  },
  {
   "cell_type": "code",
   "execution_count": null,
   "metadata": {},
   "outputs": [],
   "source": [
    "import polars as pl\n",
    "\n",
    "df_weight = pl.read_parquet(\"dataset/ClimSim/sample_submission.parquet\")\n",
    "df_weight"
   ]
  },
  {
   "cell_type": "code",
   "execution_count": null,
   "metadata": {},
   "outputs": [],
   "source": [
    "df_weight[\"ptend_q0002_15\"]"
   ]
  },
  {
   "cell_type": "code",
   "execution_count": null,
   "metadata": {},
   "outputs": [],
   "source": [
    "import torch\n",
    "batch_y = torch.rand(2, 60, 14)\n",
    "\n",
    "torch.cat([torch.zeros(batch_y.shape[0], 1, batch_y.shape[2]).float().to(batch_y.device), batch_y[:, :-1, :]], dim=1).shape"
   ]
  },
  {
   "cell_type": "code",
   "execution_count": null,
   "metadata": {},
   "outputs": [],
   "source": [
    "train_set = pl.read_parquet(\"dataset/ClimSim/train_set.parquet\", columns=[\"ptend_q0002_15\"])"
   ]
  },
  {
   "cell_type": "code",
   "execution_count": null,
   "metadata": {},
   "outputs": [],
   "source": [
    "train_set.unique()"
   ]
  },
  {
   "cell_type": "code",
   "execution_count": null,
   "metadata": {},
   "outputs": [],
   "source": [
    "from models.Transformer import Model\n",
    "\n",
    "class Args():\n",
    "    def __init__(self) -> None:\n",
    "        self.in_channel = 9 + 16\n",
    "        self.d_model = 512\n",
    "        self.d_ff = 2048\n",
    "        self.n_layers = 6\n",
    "        self.dropout = 0.2\n",
    "        self.nhead = 8\n",
    "        self.out_channel = 6 + 8\n",
    "\n",
    "args = Args()\n",
    "model = Model(args)\n",
    "sum(p.numel() for p in model.parameters() if p.requires_grad)"
   ]
  },
  {
   "cell_type": "code",
   "execution_count": null,
   "metadata": {},
   "outputs": [],
   "source": [
    "import torch\n",
    "\n",
    "x = torch.rand(2, 60, args.in_channel)\n",
    "y = torch.rand(2, 60, args.out_channel)\n",
    "\n",
    "output = model.forward(x, y, True)"
   ]
  },
  {
   "cell_type": "code",
   "execution_count": null,
   "metadata": {},
   "outputs": [],
   "source": [
    "output.shape"
   ]
  },
  {
   "cell_type": "code",
   "execution_count": null,
   "metadata": {},
   "outputs": [],
   "source": [
    "from joblib import load\n",
    "import polars as pl\n",
    "\n",
    "scaler = load(\"dataset/ClimSim/feature_engineering_version1_feature_scaler.joblib\")"
   ]
  },
  {
   "cell_type": "code",
   "execution_count": null,
   "metadata": {},
   "outputs": [],
   "source": [
    "scaler.feature_names_in_.shape"
   ]
  },
  {
   "cell_type": "code",
   "execution_count": null,
   "metadata": {},
   "outputs": [],
   "source": [
    "import numpy as np\n",
    "\n",
    "metric = np.load(\"results/1d_1d_LSTM_ClimSim1D_ftM_sl96_ll48_pl96_dm512_nh8_el2_dl1_df2048_expand2_dc4_fc1_ebtimeF_dtTrue_Exp_0/metrics.npy\")"
   ]
  },
  {
   "cell_type": "code",
   "execution_count": null,
   "metadata": {},
   "outputs": [],
   "source": [
    "np.where(metric < 0, 0, metric).mean()"
   ]
  },
  {
   "cell_type": "code",
   "execution_count": null,
   "metadata": {},
   "outputs": [],
   "source": [
    "metric_map = {}\n",
    "for col, val in zip(targets, metric):\n",
    "    metric_map[col] = val"
   ]
  },
  {
   "cell_type": "code",
   "execution_count": null,
   "metadata": {},
   "outputs": [],
   "source": [
    "metric_map"
   ]
  },
  {
   "cell_type": "code",
   "execution_count": null,
   "metadata": {},
   "outputs": [],
   "source": [
    "scaler.mean_[targets.tolist().index(\"ptend_q0002_15\")]"
   ]
  },
  {
   "cell_type": "code",
   "execution_count": null,
   "metadata": {},
   "outputs": [],
   "source": [
    "train_set = pl.read_parquet(\"dataset/ClimSim/train_set.parquet\", columns=[\"ptend_q0002_15\"])\n",
    "val_set = pl.read_parquet(\"dataset/ClimSim/val_set.parquet\", columns=[\"ptend_q0002_15\"])\n",
    "df = pl.concat([train_set, val_set], how=\"vertical\")"
   ]
  },
  {
   "cell_type": "code",
   "execution_count": null,
   "metadata": {},
   "outputs": [],
   "source": [
    "import polars as pl\n",
    "\n",
    "df = pl.read_parquet(\"output/1d_1d_Transformer_ClimSim1D_ftM_sl96_ll48_pl96_dm128_nh8_el2_dl1_df256_expand2_dc4_fc1_ebtimeF_dtTrue_Exp_0/submission.parquet\")"
   ]
  },
  {
   "cell_type": "code",
   "execution_count": null,
   "metadata": {},
   "outputs": [],
   "source": [
    "from models.UNet import Model\n",
    "\n",
    "class Args():\n",
    "    def __init__(self) -> None:\n",
    "        self.in_channel = 9 + 16\n",
    "        self.out_channel = 6 + 8\n",
    "\n",
    "args = Args()\n",
    "\n",
    "model = Model(args)"
   ]
  },
  {
   "cell_type": "code",
   "execution_count": null,
   "metadata": {},
   "outputs": [],
   "source": [
    "import torch\n",
    "\n",
    "x = torch.rand(2, args.in_channel, 60).transpose(1, 2)\n",
    "\n",
    "y = model.forward(x)"
   ]
  },
  {
   "cell_type": "code",
   "execution_count": null,
   "metadata": {},
   "outputs": [],
   "source": [
    "y.shape"
   ]
  },
  {
   "cell_type": "code",
   "execution_count": null,
   "metadata": {},
   "outputs": [],
   "source": [
    "from models.UNet import Model\n",
    "\n",
    "class Args():\n",
    "    def __init__(self) -> None:\n",
    "        self.in_channel = 9 + 16\n",
    "        self.out_channel = 6 + 8\n",
    "        self.dropout = 0.2\n",
    "\n",
    "args = Args()\n",
    "\n",
    "model = Model(args)"
   ]
  },
  {
   "cell_type": "code",
   "execution_count": null,
   "metadata": {},
   "outputs": [],
   "source": [
    "sum(p.numel() for p in model.parameters() if p.requires_grad)"
   ]
  },
  {
   "cell_type": "code",
   "execution_count": null,
   "metadata": {},
   "outputs": [],
   "source": [
    "import torch\n",
    "\n",
    "x = torch.rand(2, args.in_channel, 60).transpose(1, 2)\n",
    "\n",
    "y = model.forward(x)"
   ]
  },
  {
   "cell_type": "code",
   "execution_count": null,
   "metadata": {},
   "outputs": [],
   "source": [
    "y.shape"
   ]
  },
  {
   "cell_type": "code",
   "execution_count": null,
   "metadata": {},
   "outputs": [],
   "source": [
    "from joblib import load\n",
    "\n",
    "feature_scaler = load(\"dataset/ClimSim/feature_scaler.joblib\")\n",
    "\n",
    "feature_scaler.feature_names_in_"
   ]
  },
  {
   "cell_type": "code",
   "execution_count": null,
   "metadata": {},
   "outputs": [],
   "source": [
    "import polars as pl\n",
    "\n",
    "df = pl.read_parquet(\"output/1d_1d_Transformer_ClimSim1D_ftM_sl96_ll48_pl96_dm512_nh8_el2_dl1_df2048_expand2_dc4_fc1_ebtimeF_dtTrue_Exp_0/submission.parquet\")\n",
    "\n",
    "df"
   ]
  },
  {
   "cell_type": "code",
   "execution_count": null,
   "metadata": {},
   "outputs": [],
   "source": [
    "import numpy as np\n",
    "\n",
    "metric = np.load(\"results/fe_fe_LSTM_ClimSim1D_ftM_sl96_ll48_pl96_dm768_nh8_el2_dl1_df2048_expand2_dc4_fc1_ebtimeF_dtTrue_Exp_0/metrics.npy\")"
   ]
  },
  {
   "cell_type": "code",
   "execution_count": null,
   "metadata": {},
   "outputs": [],
   "source": [
    "metric[metric > 0]"
   ]
  },
  {
   "cell_type": "code",
   "execution_count": null,
   "metadata": {},
   "outputs": [],
   "source": [
    "from joblib import load\n",
    "from sklearn.preprocessing import StandardScaler\n",
    "\n",
    "scaler: StandardScaler = load(\"dataset/ClimSim/feature_scaler.joblib\")"
   ]
  },
  {
   "cell_type": "code",
   "execution_count": null,
   "metadata": {},
   "outputs": [],
   "source": [
    "import polars as pl\n",
    "import numpy as np\n",
    "df = pl.read_parquet(\"dataset/ClimSim/train_set.parquet\", n_rows=100)\n",
    "df = pl.DataFrame(scaler.inverse_transform(df[scaler.feature_names_in_.tolist()].to_numpy().astype(np.float64)), schema=scaler.feature_names_in_.tolist())\n",
    "q = df[[f\"{c}_{i}\" for c in [\"state_q0001\", \"state_q0002\", \"state_q0003\"] for i in range(60)]].to_numpy()\n",
    "q"
   ]
  },
  {
   "cell_type": "code",
   "execution_count": null,
   "metadata": {},
   "outputs": [],
   "source": [
    "q[q < 0]"
   ]
  },
  {
   "cell_type": "code",
   "execution_count": null,
   "metadata": {},
   "outputs": [],
   "source": [
    "import polars as pl\n",
    "df = pl.read_parquet(\"dataset/ClimSim_new/train_set.parquet\", n_rows=100)"
   ]
  },
  {
   "cell_type": "code",
   "execution_count": null,
   "metadata": {},
   "outputs": [],
   "source": [
    "df.shape"
   ]
  },
  {
   "cell_type": "code",
   "execution_count": null,
   "metadata": {},
   "outputs": [],
   "source": [
    "import numpy as np\n",
    "from joblib import load\n",
    "from sklearn.preprocessing import StandardScaler\n",
    "\n",
    "scaler: StandardScaler = load(\"dataset/ClimSim/target_scaler.joblib\")\n",
    "targets = scaler.feature_names_in_.tolist()\n",
    "r2 = np.load(\"results/1d_1d_LSTM_ClimSim1D_ftM_sl96_ll48_pl96_dm768_nh8_el2_dl1_df2048_expand2_dc4_fc1_ebtimeF_dtTrue_Exp_0/metrics.npy\")"
   ]
  },
  {
   "cell_type": "code",
   "execution_count": null,
   "metadata": {},
   "outputs": [],
   "source": [
    "for t, v in zip(targets, r2):\n",
    "    print(t, v)"
   ]
  },
  {
   "cell_type": "code",
   "execution_count": null,
   "metadata": {},
   "outputs": [],
   "source": [
    "import pandas as pd\n",
    "\n",
    "df = pd.DataFrame()\n",
    "df[\"target\"] = targets\n",
    "df[\"lstm_r2\"] = r2\n",
    "df[\"cnn_r2\"] = cnn_r2\n",
    "df['lstm - cnn'] = r2 - cnn_r2\n",
    "df.sort_values(\"lstm - cnn\")"
   ]
  },
  {
   "cell_type": "code",
   "execution_count": null,
   "metadata": {},
   "outputs": [],
   "source": [
    "df.sort_values(\"r2\").to_csv(\"temp.csv\", index=False)"
   ]
  },
  {
   "cell_type": "code",
   "execution_count": null,
   "metadata": {},
   "outputs": [],
   "source": [
    "import matplotlib.pyplot as plt\n",
    "for i in range(6):\n",
    "    df.iloc[i*60:(i + 1) * 60].plot(marker='o', linestyle='')\n",
    "    plt.grid()\n",
    "    plt.title(targets[i * 60][:-2])"
   ]
  },
  {
   "cell_type": "code",
   "execution_count": null,
   "metadata": {},
   "outputs": [],
   "source": [
    "df.sort_values(\"r2\").head(40)"
   ]
  },
  {
   "cell_type": "code",
   "execution_count": null,
   "metadata": {},
   "outputs": [],
   "source": [
    "import pandas as pd\n",
    "\n",
    "corr = pd.read_csv(\"corr.csv\")\n",
    "corr.index = corr.columns\n",
    "# features = [x for x in corr.columns if x not in targets]\n",
    "# corr[\"ptend_q0001_50\"].abs().loc[features].dropna().sort_values(ascending=False).head(50)"
   ]
  },
  {
   "cell_type": "code",
   "execution_count": null,
   "metadata": {},
   "outputs": [],
   "source": [
    "from joblib import load\n",
    "from sklearn.preprocessing import StandardScaler\n",
    "\n",
    "fs: StandardScaler = load(\"dataset/ClimSim/feature_scaler.joblib\")\n",
    "fs.scale_, fs.mean_"
   ]
  },
  {
   "cell_type": "code",
   "execution_count": null,
   "metadata": {},
   "outputs": [],
   "source": [
    "import polars as pl\n",
    "\n",
    "df = pl.read_parquet(\"dataset/ClimSim/train_set.parquet\", n_rows=100)\n",
    "\n",
    "df"
   ]
  },
  {
   "cell_type": "code",
   "execution_count": null,
   "metadata": {},
   "outputs": [],
   "source": [
    "from sklearn.preprocessing import StandardScaler\n",
    "from joblib import load\n",
    "import pandas as pd\n",
    "\n",
    "feature_scaler: StandardScaler = load(\"dataset/ClimSim/feature_scaler.joblib\")\n",
    "target_scaler: StandardScaler = load(\"dataset/ClimSim/target_scaler.joblib\")\n",
    "\n",
    "features = feature_scaler.feature_names_in_.tolist()\n",
    "targets = target_scaler.feature_names_in_.tolist()\n",
    "\n",
    "corr = pd.read_csv(\"corr.csv\")\n",
    "corr.index = corr.columns\n",
    "\n",
    "for target in targets:\n",
    "    series = corr[target].abs().loc[features].dropna().sort_values(ascending=False)\n",
    "    if len(series) != 0:\n",
    "        max_corr = corr[target].abs().loc[features].dropna().sort_values(ascending=False).iloc[0]\n",
    "        if max_corr < 0.2:\n",
    "            print(\"---------------------\" + target + '--------------------------')\n",
    "            print(max_corr)"
   ]
  },
  {
   "cell_type": "code",
   "execution_count": null,
   "metadata": {},
   "outputs": [],
   "source": []
  }
 ],
 "metadata": {
  "kernelspec": {
   "display_name": "Python 3",
   "language": "python",
   "name": "python3"
  },
  "language_info": {
   "codemirror_mode": {
    "name": "ipython",
    "version": 3
   },
   "file_extension": ".py",
   "mimetype": "text/x-python",
   "name": "python",
   "nbconvert_exporter": "python",
   "pygments_lexer": "ipython3",
   "version": "3.10.14"
  }
 },
 "nbformat": 4,
 "nbformat_minor": 2
}
