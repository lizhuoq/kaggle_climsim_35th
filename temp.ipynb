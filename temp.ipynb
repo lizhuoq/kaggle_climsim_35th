{
 "cells": [
  {
   "cell_type": "code",
   "execution_count": null,
   "metadata": {},
   "outputs": [],
   "source": [
    "from models.Transformer_ClimSim import Model\n",
    "\n",
    "\n",
    "class Args():\n",
    "    def __init__(self) -> None:\n",
    "        self.levels = 60\n",
    "        self.vertical_in_channel = 9\n",
    "        self.scalar_in_channel = 16\n",
    "        self.d_model = 64\n",
    "        self.dropout = 0.1\n",
    "        self.nhead = 4\n",
    "        self.d_ff = 128\n",
    "        self.activation = \"relu\"\n",
    "        self.n_layers = 6\n",
    "        self.vertical_out_channel = 6\n",
    "        self.scalar_out_channel = 8\n",
    "\n",
    "\n",
    "args = Args()\n",
    "model = Model(args)"
   ]
  },
  {
   "cell_type": "code",
   "execution_count": null,
   "metadata": {},
   "outputs": [],
   "source": [
    "import torch\n",
    "\n",
    "x1, x2 = torch.rand(1, 9, 60), torch.rand(1, 16)\n",
    "o1, o2 = model.forward(x1, x2)"
   ]
  },
  {
   "cell_type": "code",
   "execution_count": null,
   "metadata": {},
   "outputs": [],
   "source": [
    "o1.shape, o2.shape"
   ]
  },
  {
   "cell_type": "code",
   "execution_count": 4,
   "metadata": {},
   "outputs": [],
   "source": [
    "import numpy as np\n",
    "\n",
    "metric = np.load(\"results/tabular_tabular_MLP_ClimSimTabular_ftM_sl96_ll48_pl96_dm1024_nh8_el2_dl1_df2048_expand2_dc4_fc1_ebtimeF_dtTrue_Exp_0/metrics.npy\")"
   ]
  },
  {
   "cell_type": "code",
   "execution_count": 8,
   "metadata": {},
   "outputs": [],
   "source": [
    "from sklearn.preprocessing import StandardScaler\n",
    "from joblib import load\n",
    "\n",
    "target_scaler = load(\"dataset/ClimSim/target_scaler.joblib\")\n",
    "target_name = target_scaler.feature_names_in_"
   ]
  },
  {
   "cell_type": "code",
   "execution_count": 10,
   "metadata": {},
   "outputs": [
    {
     "data": {
      "text/plain": [
       "[('ptend_q0001_12', -1.066750550317333),\n",
       " ('ptend_q0001_13', -0.2919364713591943),\n",
       " ('ptend_q0001_14', -17.265858534686465),\n",
       " ('ptend_q0001_15', -732.5117965712367),\n",
       " ('ptend_q0001_16', -2.5286727342515234),\n",
       " ('ptend_q0002_20', -1.0457021789424878e+20),\n",
       " ('ptend_q0002_21', -1.904031485565921e+18),\n",
       " ('ptend_q0002_22', -3.8847057782173843e+17),\n",
       " ('ptend_q0002_23', -1.9789391582625132e+16),\n",
       " ('ptend_q0002_24', -1.1722748274230132e+16),\n",
       " ('ptend_q0002_25', -8.706287936127398e+17),\n",
       " ('ptend_q0002_26', -7.705021189614725e+19),\n",
       " ('ptend_q0002_27', -2254442600224.6),\n",
       " ('ptend_q0002_28', -117016695.24896719),\n",
       " ('ptend_q0003_12', -32303430.709730066),\n",
       " ('ptend_q0003_13', -7.021023867636317e+17),\n",
       " ('ptend_q0003_14', -7342447126263.29),\n",
       " ('ptend_q0003_15', -1310005.449632575),\n",
       " ('ptend_q0003_16', -2760.9991743626683),\n",
       " ('ptend_q0003_17', -29.523113491176694),\n",
       " ('ptend_q0003_18', -0.05715173314198441),\n",
       " ('ptend_q0003_20', -0.2130010147404593),\n",
       " ('ptend_q0003_21', -1.5994880236496054),\n",
       " ('ptend_q0003_22', -0.5583218851648457),\n",
       " ('ptend_q0003_23', -0.44259108203132036),\n",
       " ('ptend_q0003_24', -0.5332490050169014),\n",
       " ('ptend_q0003_25', -0.4180210924105894),\n",
       " ('ptend_q0003_26', -0.26814056135368425)]"
      ]
     },
     "execution_count": 10,
     "metadata": {},
     "output_type": "execute_result"
    }
   ],
   "source": [
    "[(target_name[x], metric[x]) for x in np.nonzero(metric < 0)[0]]"
   ]
  },
  {
   "cell_type": "code",
   "execution_count": null,
   "metadata": {},
   "outputs": [],
   "source": [
    "import polars as pl\n",
    "\n",
    "pred = pl.read_parquet(\"results/tabular_tabular_MLP_ClimSimTabular_ftM_sl96_ll48_pl96_dm1024_nh8_el2_dl1_df2048_expand2_dc4_fc1_ebtimeF_dtTrue_Exp_0/pred.parquet\")\n",
    "true = pl.read_parquet(\"results/tabular_tabular_MLP_ClimSimTabular_ftM_sl96_ll48_pl96_dm1024_nh8_el2_dl1_df2048_expand2_dc4_fc1_ebtimeF_dtTrue_Exp_0/true.parquet\")\n"
   ]
  },
  {
   "cell_type": "code",
   "execution_count": null,
   "metadata": {},
   "outputs": [],
   "source": [
    "import polars as pl\n",
    "\n",
    "test = pl.read_parquet(\"dataset/ClimSim/test.parquet\", n_rows=1000)\n",
    "\n",
    "test[[\"state_t_1\", \"state_t_0\"]]"
   ]
  },
  {
   "cell_type": "code",
   "execution_count": null,
   "metadata": {},
   "outputs": [],
   "source": [
    "from sklearn.metrics import r2_score\n",
    "from tqdm import tqdm\n",
    "\n",
    "r2 = {}\n",
    "for col in tqdm(pred.columns):\n",
    "    r2[col] = r2_score(true[col], pred[col])"
   ]
  },
  {
   "cell_type": "code",
   "execution_count": null,
   "metadata": {},
   "outputs": [],
   "source": [
    "pred"
   ]
  },
  {
   "cell_type": "code",
   "execution_count": null,
   "metadata": {},
   "outputs": [],
   "source": [
    "true"
   ]
  },
  {
   "cell_type": "code",
   "execution_count": null,
   "metadata": {},
   "outputs": [],
   "source": [
    "val = pl.read_parquet(\"dataset/ClimSim/val_set.parquet\", n_rows=1000)"
   ]
  },
  {
   "cell_type": "code",
   "execution_count": 1,
   "metadata": {},
   "outputs": [],
   "source": [
    "import polars as pl\n",
    "\n",
    "df_weight = pl.read_parquet(\"dataset/ClimSim/sample_submission.parquet\")"
   ]
  },
  {
   "cell_type": "code",
   "execution_count": null,
   "metadata": {},
   "outputs": [],
   "source": [
    "val = pl.DataFrame(val[true.columns].to_numpy() * df_weight[true.columns].to_numpy(), schema=true.columns, orient=\"row\")\n",
    "val"
   ]
  },
  {
   "cell_type": "code",
   "execution_count": null,
   "metadata": {},
   "outputs": [],
   "source": [
    "val['ptend_t_0']"
   ]
  },
  {
   "cell_type": "code",
   "execution_count": null,
   "metadata": {},
   "outputs": [],
   "source": [
    "true"
   ]
  },
  {
   "cell_type": "code",
   "execution_count": null,
   "metadata": {},
   "outputs": [],
   "source": [
    "pred"
   ]
  },
  {
   "cell_type": "code",
   "execution_count": null,
   "metadata": {},
   "outputs": [],
   "source": [
    "train = pl.read_parquet(\"dataset/ClimSim/train_set.parquet\", n_rows=1000)"
   ]
  },
  {
   "cell_type": "code",
   "execution_count": null,
   "metadata": {},
   "outputs": [],
   "source": [
    "train"
   ]
  },
  {
   "cell_type": "code",
   "execution_count": null,
   "metadata": {},
   "outputs": [],
   "source": [
    "from joblib import load\n",
    "from sklearn.preprocessing import StandardScaler\n",
    "feature_scaler: StandardScaler = load(\"dataset/ClimSim/feature_scaler.joblib\")\n",
    "feature_scaler.feature_names_in_"
   ]
  },
  {
   "cell_type": "code",
   "execution_count": null,
   "metadata": {},
   "outputs": [],
   "source": [
    "feature_scaler.mean_"
   ]
  },
  {
   "cell_type": "code",
   "execution_count": null,
   "metadata": {},
   "outputs": [],
   "source": [
    "target_scaler: StandardScaler = load(\"dataset/ClimSim/target_scaler.joblib\")\n",
    "target_scaler.feature_names_in_"
   ]
  },
  {
   "cell_type": "code",
   "execution_count": null,
   "metadata": {},
   "outputs": [],
   "source": [
    "target_scaler.scale_"
   ]
  },
  {
   "cell_type": "code",
   "execution_count": null,
   "metadata": {},
   "outputs": [],
   "source": []
  }
 ],
 "metadata": {
  "kernelspec": {
   "display_name": "Python 3",
   "language": "python",
   "name": "python3"
  },
  "language_info": {
   "codemirror_mode": {
    "name": "ipython",
    "version": 3
   },
   "file_extension": ".py",
   "mimetype": "text/x-python",
   "name": "python",
   "nbconvert_exporter": "python",
   "pygments_lexer": "ipython3",
   "version": "3.10.14"
  }
 },
 "nbformat": 4,
 "nbformat_minor": 2
}
